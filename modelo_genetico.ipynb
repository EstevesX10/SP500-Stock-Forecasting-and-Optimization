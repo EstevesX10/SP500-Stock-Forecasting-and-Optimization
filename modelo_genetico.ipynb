{
 "cells": [
  {
   "cell_type": "code",
   "execution_count": 58,
   "id": "9b0a81a7-9a70-4af1-9c93-7561f273dd90",
   "metadata": {},
   "outputs": [],
   "source": [
    "import pygad\n",
    "from tensorflow.keras.models import Sequential\n",
    "from tensorflow.keras.layers import LSTM, Dense\n",
    "import numpy as np\n",
    "import time\n",
    "from functools import partial"
   ]
  },
  {
   "cell_type": "code",
   "execution_count": 26,
   "id": "38c73a22-e6af-4489-9a2b-e04128268489",
   "metadata": {},
   "outputs": [
    {
     "data": {
      "text/html": [
       "<div>\n",
       "<style scoped>\n",
       "    .dataframe tbody tr th:only-of-type {\n",
       "        vertical-align: middle;\n",
       "    }\n",
       "\n",
       "    .dataframe tbody tr th {\n",
       "        vertical-align: top;\n",
       "    }\n",
       "\n",
       "    .dataframe thead th {\n",
       "        text-align: right;\n",
       "    }\n",
       "</style>\n",
       "<table border=\"1\" class=\"dataframe\">\n",
       "  <thead>\n",
       "    <tr style=\"text-align: right;\">\n",
       "      <th></th>\n",
       "      <th>Date</th>\n",
       "      <th>Open</th>\n",
       "      <th>High</th>\n",
       "      <th>Low</th>\n",
       "      <th>Close</th>\n",
       "      <th>Volume</th>\n",
       "      <th>Dividends</th>\n",
       "      <th>Stock Splits</th>\n",
       "      <th>SMA</th>\n",
       "      <th>EMA</th>\n",
       "      <th>UpperBB</th>\n",
       "      <th>LowerBB</th>\n",
       "      <th>Daily_Return</th>\n",
       "      <th>Cumulative_Return</th>\n",
       "      <th>Window_Return</th>\n",
       "      <th>Volatility</th>\n",
       "    </tr>\n",
       "  </thead>\n",
       "  <tbody>\n",
       "    <tr>\n",
       "      <th>0</th>\n",
       "      <td>2010-01-04</td>\n",
       "      <td>0.424410</td>\n",
       "      <td>0.426933</td>\n",
       "      <td>0.415239</td>\n",
       "      <td>0.423952</td>\n",
       "      <td>800204000</td>\n",
       "      <td>0.0</td>\n",
       "      <td>0.0</td>\n",
       "      <td>0.386383</td>\n",
       "      <td>0.388421</td>\n",
       "      <td>0.448434</td>\n",
       "      <td>0.324333</td>\n",
       "      <td>-0.010171</td>\n",
       "      <td>1.324498</td>\n",
       "      <td>0.336949</td>\n",
       "      <td>0.105565</td>\n",
       "    </tr>\n",
       "    <tr>\n",
       "      <th>1</th>\n",
       "      <td>2010-01-05</td>\n",
       "      <td>0.422347</td>\n",
       "      <td>0.434728</td>\n",
       "      <td>0.422347</td>\n",
       "      <td>0.430143</td>\n",
       "      <td>728648000</td>\n",
       "      <td>0.0</td>\n",
       "      <td>0.0</td>\n",
       "      <td>0.391542</td>\n",
       "      <td>0.392395</td>\n",
       "      <td>0.449835</td>\n",
       "      <td>0.333250</td>\n",
       "      <td>0.014602</td>\n",
       "      <td>1.343839</td>\n",
       "      <td>0.315568</td>\n",
       "      <td>0.102702</td>\n",
       "    </tr>\n",
       "    <tr>\n",
       "      <th>2</th>\n",
       "      <td>2010-01-06</td>\n",
       "      <td>0.429913</td>\n",
       "      <td>0.433811</td>\n",
       "      <td>0.425786</td>\n",
       "      <td>0.432894</td>\n",
       "      <td>649168000</td>\n",
       "      <td>0.0</td>\n",
       "      <td>0.0</td>\n",
       "      <td>0.394741</td>\n",
       "      <td>0.396252</td>\n",
       "      <td>0.454801</td>\n",
       "      <td>0.334681</td>\n",
       "      <td>0.006397</td>\n",
       "      <td>1.352435</td>\n",
       "      <td>0.173400</td>\n",
       "      <td>0.104711</td>\n",
       "    </tr>\n",
       "    <tr>\n",
       "      <th>3</th>\n",
       "      <td>2010-01-07</td>\n",
       "      <td>0.430601</td>\n",
       "      <td>0.432435</td>\n",
       "      <td>0.421200</td>\n",
       "      <td>0.424410</td>\n",
       "      <td>547792000</td>\n",
       "      <td>0.0</td>\n",
       "      <td>0.0</td>\n",
       "      <td>0.398409</td>\n",
       "      <td>0.398934</td>\n",
       "      <td>0.456148</td>\n",
       "      <td>0.340670</td>\n",
       "      <td>-0.019598</td>\n",
       "      <td>1.325931</td>\n",
       "      <td>0.209014</td>\n",
       "      <td>0.100835</td>\n",
       "    </tr>\n",
       "    <tr>\n",
       "      <th>4</th>\n",
       "      <td>2010-01-08</td>\n",
       "      <td>0.420971</td>\n",
       "      <td>0.428308</td>\n",
       "      <td>0.418449</td>\n",
       "      <td>0.425328</td>\n",
       "      <td>478168000</td>\n",
       "      <td>0.0</td>\n",
       "      <td>0.0</td>\n",
       "      <td>0.401688</td>\n",
       "      <td>0.401447</td>\n",
       "      <td>0.457603</td>\n",
       "      <td>0.345773</td>\n",
       "      <td>0.002161</td>\n",
       "      <td>1.328796</td>\n",
       "      <td>0.182282</td>\n",
       "      <td>0.101441</td>\n",
       "    </tr>\n",
       "  </tbody>\n",
       "</table>\n",
       "</div>"
      ],
      "text/plain": [
       "         Date      Open      High       Low     Close     Volume  Dividends  \\\n",
       "0  2010-01-04  0.424410  0.426933  0.415239  0.423952  800204000        0.0   \n",
       "1  2010-01-05  0.422347  0.434728  0.422347  0.430143  728648000        0.0   \n",
       "2  2010-01-06  0.429913  0.433811  0.425786  0.432894  649168000        0.0   \n",
       "3  2010-01-07  0.430601  0.432435  0.421200  0.424410  547792000        0.0   \n",
       "4  2010-01-08  0.420971  0.428308  0.418449  0.425328  478168000        0.0   \n",
       "\n",
       "   Stock Splits       SMA       EMA   UpperBB   LowerBB  Daily_Return  \\\n",
       "0           0.0  0.386383  0.388421  0.448434  0.324333     -0.010171   \n",
       "1           0.0  0.391542  0.392395  0.449835  0.333250      0.014602   \n",
       "2           0.0  0.394741  0.396252  0.454801  0.334681      0.006397   \n",
       "3           0.0  0.398409  0.398934  0.456148  0.340670     -0.019598   \n",
       "4           0.0  0.401688  0.401447  0.457603  0.345773      0.002161   \n",
       "\n",
       "   Cumulative_Return  Window_Return  Volatility  \n",
       "0           1.324498       0.336949    0.105565  \n",
       "1           1.343839       0.315568    0.102702  \n",
       "2           1.352435       0.173400    0.104711  \n",
       "3           1.325931       0.209014    0.100835  \n",
       "4           1.328796       0.182282    0.101441  "
      ]
     },
     "execution_count": 26,
     "metadata": {},
     "output_type": "execute_result"
    }
   ],
   "source": [
    "dataset_path = 'NVDA.csv'\n",
    "data = pd.read_csv(dataset_path)\n",
    "data.head()"
   ]
  },
  {
   "cell_type": "code",
   "execution_count": 106,
   "id": "add722b2-6c9b-4eeb-b93b-b179191bae77",
   "metadata": {},
   "outputs": [],
   "source": [
    "daily_returns = np.array(data['Daily_Return'].head(20))\n",
    "volatility = np.array(data['Volatility'].head(20))"
   ]
  },
  {
   "cell_type": "code",
   "execution_count": 109,
   "id": "af358953-b165-42e4-bdc2-b9b1594a0322",
   "metadata": {},
   "outputs": [],
   "source": [
    "def normalize(data):\n",
    "    min_val = np.min(data)\n",
    "    max_val = np.max(data)\n",
    "    return (data - min_val) / (max_val - min_val)\n",
    "daily_returns = normalize(daily_returns)\n",
    "volatility = normalize(volatility)"
   ]
  },
  {
   "cell_type": "code",
   "execution_count": 111,
   "id": "44fc4422-00fd-44d5-b819-133ef0f7f148",
   "metadata": {},
   "outputs": [],
   "source": [
    "def fitness_func(ga_instance, solution, sol_idx):\n",
    "    global daily_returns, volatility\n",
    "    \n",
    "    weights = np.array(solution, dtype=int)\n",
    "    \n",
    "    # Garantir que a soma dos pesos seja positiva\n",
    "    if np.sum(weights) <= 0:\n",
    "        return -np.inf\n",
    "    \n",
    "    weighted_returns = np.dot(daily_returns, weights)\n",
    "    \n",
    "    weighted_volatility = np.dot(volatility, weights)\n",
    "    \n",
    "    risk_adjusted_return = weighted_returns - weighted_volatility\n",
    "    \n",
    "    return risk_adjusted_return\n"
   ]
  },
  {
   "cell_type": "code",
   "execution_count": 112,
   "id": "a837b6ba-a069-4da3-b0dc-2620dc1dc245",
   "metadata": {},
   "outputs": [],
   "source": [
    "# Inicialização com valores positivos dentro de um intervalo razoável\n",
    "ga_instance = pygad.GA(\n",
    "    num_generations=100,\n",
    "    num_parents_mating=5,\n",
    "    fitness_func=fitness_func,\n",
    "    sol_per_pop=10,\n",
    "    num_genes=20, \n",
    "    gene_type=int,\n",
    "    init_range_low=1, \n",
    "    init_range_high=10,\n",
    "    parent_selection_type=\"sss\",\n",
    "    keep_parents=2,\n",
    "    crossover_type=\"single_point\",\n",
    "    mutation_type=\"random\",\n",
    "    mutation_percent_genes=10\n",
    ")"
   ]
  },
  {
   "cell_type": "code",
   "execution_count": 113,
   "id": "de4d4c42-b9d7-43cb-9270-460d2838dee6",
   "metadata": {},
   "outputs": [],
   "source": [
    "def on_generation(ga_instance):\n",
    "    print(f\"Generation {ga_instance.generations_completed} complete\")\n",
    "    time.sleep(1)  # Atraso de 1 segundo"
   ]
  },
  {
   "cell_type": "code",
   "execution_count": 114,
   "id": "0ccfa091-b966-4df5-af98-f95a8efe09de",
   "metadata": {},
   "outputs": [],
   "source": [
    "ga_instance.run()"
   ]
  },
  {
   "cell_type": "code",
   "execution_count": 115,
   "id": "5813a845-c49e-446d-abf3-7ce4a6a52085",
   "metadata": {},
   "outputs": [
    {
     "data": {
      "image/png": "[encoded data removed]",
      "text/plain": [
       "<Figure size 640x480 with 1 Axes>"
      ]
     },
     "metadata": {},
     "output_type": "display_data"
    },
    {
     "data": {
      "image/png": "[encoded data removed]",
      "text/plain": [
       "<Figure size 640x480 with 1 Axes>"
      ]
     },
     "execution_count": 115,
     "metadata": {},
     "output_type": "execute_result"
    }
   ],
   "source": [
    "ga_instance.plot_fitness()"
   ]
  },
  {
   "cell_type": "code",
   "execution_count": 116,
   "id": "d24266e9-373e-41f1-a267-37b0e7743b86",
   "metadata": {},
   "outputs": [
    {
     "name": "stdout",
     "output_type": "stream",
     "text": [
      "Parameters of the best solution : [8 8 7 5 6 7 2 8 8 0 8 0 0 0 0 0 0 0 0 5]\n",
      "Fitness value of the best solution = 17.760554144080402\n",
      "Index of the best solution : 0\n"
     ]
    }
   ],
   "source": [
    "solution, solution_fitness, solution_idx = ga_instance.best_solution()\n",
    "print(\"Parameters of the best solution : {solution}\".format(solution=solution))\n",
    "print(\"Fitness value of the best solution = {solution_fitness}\".format(solution_fitness=solution_fitness))\n",
    "print(\"Index of the best solution : {solution_idx}\".format(solution_idx=solution_idx))"
   ]
  },
  {
   "cell_type": "markdown",
   "id": "89421843-e6a7-488c-aaa4-9016e039f309",
   "metadata": {},
   "source": [
    "Referências:  \n",
    "https://www.digitalocean.com/community/tutorials/genetic-algorithm-applications-using-pygad"
   ]
  }
 ],
 "metadata": {
  "kernelspec": {
   "display_name": "Python 3 (ipykernel)",
   "language": "python",
   "name": "python3"
  },
  "language_info": {
   "codemirror_mode": {
    "name": "ipython",
    "version": 3
   },
   "file_extension": ".py",
   "mimetype": "text/x-python",
   "name": "python",
   "nbconvert_exporter": "python",
   "pygments_lexer": "ipython3",
   "version": "3.11.9"
  }
 },
 "nbformat": 4,
 "nbformat_minor": 5
}
