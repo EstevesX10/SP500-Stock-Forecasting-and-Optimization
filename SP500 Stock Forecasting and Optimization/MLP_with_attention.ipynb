{
 "cells": [
  {
   "cell_type": "code",
   "execution_count": 3,
   "id": "a30ac2f4",
   "metadata": {},
   "outputs": [],
   "source": [
    "import numpy as np\n",
    "import pandas as pd\n",
    "import tensorflow as tf\n",
    "from sklearn import metrics\n",
    "from sklearn.metrics import accuracy_score, confusion_matrix, balanced_accuracy_score\n",
    "from sklearn.model_selection import train_test_split, KFold\n",
    "from sklearn.preprocessing import OneHotEncoder, LabelEncoder, MinMaxScaler\n",
    "from sklearn.decomposition import PCA\n",
    "from tensorflow.keras.models import Sequential\n",
    "from tensorflow.keras.layers import Dense\n",
    "from tensorflow.keras.callbacks import LearningRateScheduler, EarlyStopping\n",
    "from tensorflow.keras.layers import Input, Dense, Attention\n",
    "import seaborn as sns\n",
    "import matplotlib.pyplot as plt"
   ]
  },
  {
   "cell_type": "code",
   "execution_count": 5,
   "id": "fcfd8b6e",
   "metadata": {},
   "outputs": [
    {
     "name": "stdout",
     "output_type": "stream",
     "text": [
      "       Open      High       Low\n",
      "0  0.424410  0.426933  0.415239\n",
      "1  0.422347  0.434728  0.422347\n",
      "2  0.429913  0.433811  0.425786\n",
      "3  0.430601  0.432436  0.421200\n",
      "4  0.420971  0.428308  0.418449\n"
     ]
    }
   ],
   "source": [
    "dataset_path = 'NVDA.csv' \n",
    "data = pd.read_csv(dataset_path)\n",
    "\n",
    "X = data[['Open', 'High', 'Low']]\n",
    "y = data['Close'] \n",
    "\n",
    "print(pd.DataFrame(X).head())"
   ]
  },
  {
   "cell_type": "markdown",
   "id": "f11cc3db",
   "metadata": {},
   "source": [
    "Abordagens:  \n",
    "O número de neurônios escondidos deve estar entre o tamanho da camada de entrada e o da camada de saída.  \n",
    "O número de neurônios escondidos deve ser 2/3 do tamanho da camada de entrada, mais o tamanho da camada de saída"
   ]
  },
  {
   "cell_type": "code",
   "execution_count": 25,
   "id": "acd57ba1",
   "metadata": {},
   "outputs": [],
   "source": [
    "def n_neuronios(X, y):\n",
    "    n_neur = [0] * 3\n",
    "    input_dim = X.shape[1]\n",
    "    output_dim = y.shape[0]\n",
    "    #Neurónios na camada escondida 1\n",
    "    n_neur [0] = int((input_dim + output_dim)/2)\n",
    "    #Neurónios na camada escondida 2\n",
    "    n_neur [1] = int((input_dim + output_dim)/3)\n",
    "    #Neurónios na camada escondida 3\n",
    "    n_neur [2] = int((input_dim + output_dim)/4)\n",
    "    return n_neur, output_dim"
   ]
  },
  {
   "cell_type": "markdown",
   "id": "dcd5eed0",
   "metadata": {},
   "source": [
    "Função gaussiana para inicializar os pesos"
   ]
  },
  {
   "cell_type": "code",
   "execution_count": 21,
   "id": "90e81054",
   "metadata": {},
   "outputs": [],
   "source": [
    "def initialize_weights(shape, dtype=None):\n",
    "    mean = 0.0\n",
    "    stddev = 0.01\n",
    "    return tf.constant(np.random.normal(loc=mean, scale=stddev, size=shape), dtype=dtype)"
   ]
  },
  {
   "cell_type": "markdown",
   "id": "6689dfee",
   "metadata": {},
   "source": [
    "Ajustar o Learning Rate para metade do seu valor de 10 em 10 epochs"
   ]
  },
  {
   "cell_type": "code",
   "execution_count": 22,
   "id": "9d4db304",
   "metadata": {},
   "outputs": [],
   "source": [
    "def scheduler(epoch, lr): \n",
    "    lr_scheduler = LearningRateScheduler(scheduler)\n",
    "    if epoch > 0 and epoch % 10 == 0: \n",
    "        return lr / 2 \n",
    "    return lr"
   ]
  },
  {
   "cell_type": "markdown",
   "id": "185bc556",
   "metadata": {},
   "source": [
    "Verificar se a validation loss (no fold de desenvolvimento) não melhora em 10 epochs consecutivos, e para o treino caso isso aconteça"
   ]
  },
  {
   "cell_type": "code",
   "execution_count": 23,
   "id": "60ef4c70",
   "metadata": {},
   "outputs": [],
   "source": [
    "early_stopping = EarlyStopping(monitor='val_loss', patience=10)"
   ]
  },
  {
   "cell_type": "code",
   "execution_count": 30,
   "id": "7cf3a14d",
   "metadata": {},
   "outputs": [],
   "source": [
    "def model(X, n_neur, output_dim):\n",
    "    input_layer = tf.keras.layers.Input(shape=(X.shape[1], X.shape[2])) \n",
    "    dense1 = tf.keras.layers.Dense(n_neur[0], kernel_initializer=initialize_weights)(input_layer)\n",
    "    act1 = tf.keras.layers.LeakyReLU(negative_slope=0.01)(dense1)\n",
    "    dense2 = tf.keras.layers.Dense(n_neur[1], kernel_initializer=initialize_weights)(act1)\n",
    "    act2 = tf.keras.layers.LeakyReLU(negative_slope=0.01)(dense2)\n",
    "    \n",
    "    # Camada de atenção\n",
    "    attention_layer = tf.keras.layers.Attention()([dense2, dense2])\n",
    "    \n",
    "    flatten = tf.keras.layers.Flatten()(attention_layer)\n",
    "    output_layer = tf.keras.layers.Dense(output_dim, activation='linear', kernel_initializer=initialize_weights)(flatten)\n",
    "    \n",
    "    model = tf.keras.models.Model(inputs=input_layer, outputs=output_layer)\n",
    "    return model"
   ]
  },
  {
   "cell_type": "code",
   "execution_count": 33,
   "id": "754df206",
   "metadata": {},
   "outputs": [],
   "source": [
    "def train(X, y):\n",
    "    adam_optimizer = tf.keras.optimizers.Adam(learning_rate=0.001)\n",
    "    n_neur, output_dim = n_neuronios(X, y)\n",
    "    model = model(X, n_neur, output_dim)\n",
    "    model.compile(optimizer=adam_optimizer, loss='sparse_categorical_crossentropy', metrics=[\"accuracy\"])\n",
    "    model.fit(X_train, y_train, epochs=100, batch_size=128, validation_data=(X_dev, y_dev), callbacks=[lr_scheduler, early_stopping])\n",
    "    loss, accuracy = model.evaluate(X_test, y_test)\n",
    "    print(f\"Loss: {loss}\")\n",
    "    print(f\"Accuracy: {accuracy}\")"
   ]
  },
  {
   "cell_type": "markdown",
   "id": "14bf9e57",
   "metadata": {},
   "source": [
    "Referências:  \n",
    "https://medium.com/@zhonghong9998/attention-mechanisms-in-deep-learning-enhancing-model-performance-32a91006092a  \n",
    "https://www.turing.com/kb/how-to-choose-an-activation-function-for-deep-learning  \n",
    "https://medium.com/@gamelover9899/how-to-choose-the-right-activation-function-for-your-neural-network-843d8dc85806"
   ]
  }
 ],
 "metadata": {
  "kernelspec": {
   "display_name": "Python 3 (ipykernel)",
   "language": "python",
   "name": "python3"
  },
  "language_info": {
   "codemirror_mode": {
    "name": "ipython",
    "version": 3
   },
   "file_extension": ".py",
   "mimetype": "text/x-python",
   "name": "python",
   "nbconvert_exporter": "python",
   "pygments_lexer": "ipython3",
   "version": "3.9.13"
  }
 },
 "nbformat": 4,
 "nbformat_minor": 5
}
