{
 "cells": [
  {
   "cell_type": "markdown",
   "id": "cf203c9d-fb83-4b01-9cf3-73eb1fa69b64",
   "metadata": {},
   "source": [
    "## Imports"
   ]
  },
  {
   "cell_type": "code",
   "execution_count": 841,
   "id": "9b0a81a7-9a70-4af1-9c93-7561f273dd90",
   "metadata": {},
   "outputs": [],
   "source": [
    "import pygad\n",
    "from tensorflow.keras.models import Sequential\n",
    "from tensorflow.keras.layers import LSTM, Dense\n",
    "import numpy as np\n",
    "import time\n",
    "import pandas as pd\n",
    "from functools import partial"
   ]
  },
  {
   "cell_type": "markdown",
   "id": "051d13cf-36c7-4e03-9d5d-e5683ca90be6",
   "metadata": {},
   "source": [
    "## Creation of Datasets\n",
    "We use the datasets of the companies in which we are going to invest and create 5 new datasets to run our program"
   ]
  },
  {
   "cell_type": "code",
   "execution_count": 848,
   "id": "36d418c0-3382-42e6-9ba0-4e2061d4b016",
   "metadata": {},
   "outputs": [],
   "source": [
    "companies = ['1', '2', '3']"
   ]
  },
  {
   "cell_type": "markdown",
   "id": "ed68e64f-a5d8-442f-be24-bbc1512e9887",
   "metadata": {},
   "source": [
    "### Daily Returns Dataset"
   ]
  },
  {
   "cell_type": "code",
   "execution_count": 852,
   "id": "38c73a22-e6af-4489-9a2b-e04128268489",
   "metadata": {
    "scrolled": true
   },
   "outputs": [
    {
     "data": {
      "text/html": [
       "<div>\n",
       "<style scoped>\n",
       "    .dataframe tbody tr th:only-of-type {\n",
       "        vertical-align: middle;\n",
       "    }\n",
       "\n",
       "    .dataframe tbody tr th {\n",
       "        vertical-align: top;\n",
       "    }\n",
       "\n",
       "    .dataframe thead th {\n",
       "        text-align: right;\n",
       "    }\n",
       "</style>\n",
       "<table border=\"1\" class=\"dataframe\">\n",
       "  <thead>\n",
       "    <tr style=\"text-align: right;\">\n",
       "      <th></th>\n",
       "      <th>Company_1_Daily_Return</th>\n",
       "      <th>Company_2_Daily_Return</th>\n",
       "      <th>Company_3_Daily_Return</th>\n",
       "    </tr>\n",
       "  </thead>\n",
       "  <tbody>\n",
       "    <tr>\n",
       "      <th>0</th>\n",
       "      <td>0.013</td>\n",
       "      <td>0.030</td>\n",
       "      <td>0.020</td>\n",
       "    </tr>\n",
       "    <tr>\n",
       "      <th>1</th>\n",
       "      <td>0.019</td>\n",
       "      <td>0.012</td>\n",
       "      <td>0.012</td>\n",
       "    </tr>\n",
       "    <tr>\n",
       "      <th>2</th>\n",
       "      <td>-0.006</td>\n",
       "      <td>0.009</td>\n",
       "      <td>-0.005</td>\n",
       "    </tr>\n",
       "    <tr>\n",
       "      <th>3</th>\n",
       "      <td>0.024</td>\n",
       "      <td>0.010</td>\n",
       "      <td>0.013</td>\n",
       "    </tr>\n",
       "    <tr>\n",
       "      <th>4</th>\n",
       "      <td>0.013</td>\n",
       "      <td>0.019</td>\n",
       "      <td>0.018</td>\n",
       "    </tr>\n",
       "  </tbody>\n",
       "</table>\n",
       "</div>"
      ],
      "text/plain": [
       "   Company_1_Daily_Return  Company_2_Daily_Return  Company_3_Daily_Return\n",
       "0                   0.013                   0.030                   0.020\n",
       "1                   0.019                   0.012                   0.012\n",
       "2                  -0.006                   0.009                  -0.005\n",
       "3                   0.024                   0.010                   0.013\n",
       "4                   0.013                   0.019                   0.018"
      ]
     },
     "execution_count": 852,
     "metadata": {},
     "output_type": "execute_result"
    }
   ],
   "source": [
    "daily_returns = pd.DataFrame()\n",
    "for x in companies:\n",
    "    company = pd.read_csv(f'company_{x}_january_2024.csv')\n",
    "    daily_returns[f'Company_{x}_Daily_Return'] = company['daily_return']\n",
    "    \n",
    "daily_returns.to_csv('Daily_Returns_january_2024.csv', index=False)\n",
    "\n",
    "daily_returns.head()"
   ]
  },
  {
   "cell_type": "markdown",
   "id": "ea8d7e34-cbff-4293-bedb-a74e4a6302be",
   "metadata": {},
   "source": [
    "### Daily Expected Returns Dataset"
   ]
  },
  {
   "cell_type": "code",
   "execution_count": 854,
   "id": "5ce1be0c-7f53-4161-a535-018a60d3df57",
   "metadata": {},
   "outputs": [
    {
     "data": {
      "text/html": [
       "<div>\n",
       "<style scoped>\n",
       "    .dataframe tbody tr th:only-of-type {\n",
       "        vertical-align: middle;\n",
       "    }\n",
       "\n",
       "    .dataframe tbody tr th {\n",
       "        vertical-align: top;\n",
       "    }\n",
       "\n",
       "    .dataframe thead th {\n",
       "        text-align: right;\n",
       "    }\n",
       "</style>\n",
       "<table border=\"1\" class=\"dataframe\">\n",
       "  <thead>\n",
       "    <tr style=\"text-align: right;\">\n",
       "      <th></th>\n",
       "      <th>Company_1_Daily_Exp_Return</th>\n",
       "      <th>Company_2_Daily_Exp_Return</th>\n",
       "      <th>Company_3_Daily_Exp_Return</th>\n",
       "    </tr>\n",
       "  </thead>\n",
       "  <tbody>\n",
       "    <tr>\n",
       "      <th>0</th>\n",
       "      <td>0.015</td>\n",
       "      <td>0.035</td>\n",
       "      <td>0.022</td>\n",
       "    </tr>\n",
       "    <tr>\n",
       "      <th>1</th>\n",
       "      <td>0.020</td>\n",
       "      <td>0.015</td>\n",
       "      <td>0.013</td>\n",
       "    </tr>\n",
       "    <tr>\n",
       "      <th>2</th>\n",
       "      <td>-0.007</td>\n",
       "      <td>0.011</td>\n",
       "      <td>-0.004</td>\n",
       "    </tr>\n",
       "    <tr>\n",
       "      <th>3</th>\n",
       "      <td>0.026</td>\n",
       "      <td>0.011</td>\n",
       "      <td>0.015</td>\n",
       "    </tr>\n",
       "    <tr>\n",
       "      <th>4</th>\n",
       "      <td>0.015</td>\n",
       "      <td>0.022</td>\n",
       "      <td>0.021</td>\n",
       "    </tr>\n",
       "  </tbody>\n",
       "</table>\n",
       "</div>"
      ],
      "text/plain": [
       "   Company_1_Daily_Exp_Return  Company_2_Daily_Exp_Return  \\\n",
       "0                       0.015                       0.035   \n",
       "1                       0.020                       0.015   \n",
       "2                      -0.007                       0.011   \n",
       "3                       0.026                       0.011   \n",
       "4                       0.015                       0.022   \n",
       "\n",
       "   Company_3_Daily_Exp_Return  \n",
       "0                       0.022  \n",
       "1                       0.013  \n",
       "2                      -0.004  \n",
       "3                       0.015  \n",
       "4                       0.021  "
      ]
     },
     "execution_count": 854,
     "metadata": {},
     "output_type": "execute_result"
    }
   ],
   "source": [
    "daily_exp_returns = pd.DataFrame()\n",
    "for x in companies:\n",
    "    company = pd.read_csv(f'company_{x}_january_2024.csv')\n",
    "    daily_exp_returns[f'Company_{x}_Daily_Exp_Return'] = company['expected_return']\n",
    "    \n",
    "daily_exp_returns.to_csv('Expected_Daily_Returns_january_2024.csv', index=False)\n",
    "\n",
    "daily_exp_returns.head()"
   ]
  },
  {
   "cell_type": "markdown",
   "id": "1420f3c0-519c-4e41-933d-1bda3d53b1cc",
   "metadata": {},
   "source": [
    "### Open Prices Dataset"
   ]
  },
  {
   "cell_type": "code",
   "execution_count": 856,
   "id": "52efe531-57e0-452b-972a-72f3c0bb3fa3",
   "metadata": {},
   "outputs": [
    {
     "data": {
      "text/html": [
       "<div>\n",
       "<style scoped>\n",
       "    .dataframe tbody tr th:only-of-type {\n",
       "        vertical-align: middle;\n",
       "    }\n",
       "\n",
       "    .dataframe tbody tr th {\n",
       "        vertical-align: top;\n",
       "    }\n",
       "\n",
       "    .dataframe thead th {\n",
       "        text-align: right;\n",
       "    }\n",
       "</style>\n",
       "<table border=\"1\" class=\"dataframe\">\n",
       "  <thead>\n",
       "    <tr style=\"text-align: right;\">\n",
       "      <th></th>\n",
       "      <th>Company_1_Open_Price</th>\n",
       "      <th>Company_2_Open_Price</th>\n",
       "      <th>Company_3_Open_Price</th>\n",
       "    </tr>\n",
       "  </thead>\n",
       "  <tbody>\n",
       "    <tr>\n",
       "      <th>0</th>\n",
       "      <td>150</td>\n",
       "      <td>85</td>\n",
       "      <td>230</td>\n",
       "    </tr>\n",
       "    <tr>\n",
       "      <th>1</th>\n",
       "      <td>152</td>\n",
       "      <td>88</td>\n",
       "      <td>235</td>\n",
       "    </tr>\n",
       "    <tr>\n",
       "      <th>2</th>\n",
       "      <td>155</td>\n",
       "      <td>89</td>\n",
       "      <td>238</td>\n",
       "    </tr>\n",
       "    <tr>\n",
       "      <th>3</th>\n",
       "      <td>154</td>\n",
       "      <td>90</td>\n",
       "      <td>237</td>\n",
       "    </tr>\n",
       "    <tr>\n",
       "      <th>4</th>\n",
       "      <td>158</td>\n",
       "      <td>91</td>\n",
       "      <td>240</td>\n",
       "    </tr>\n",
       "  </tbody>\n",
       "</table>\n",
       "</div>"
      ],
      "text/plain": [
       "   Company_1_Open_Price  Company_2_Open_Price  Company_3_Open_Price\n",
       "0                   150                    85                   230\n",
       "1                   152                    88                   235\n",
       "2                   155                    89                   238\n",
       "3                   154                    90                   237\n",
       "4                   158                    91                   240"
      ]
     },
     "execution_count": 856,
     "metadata": {},
     "output_type": "execute_result"
    }
   ],
   "source": [
    "open_prices = pd.DataFrame()\n",
    "for x in companies:\n",
    "    company = pd.read_csv(f'company_{x}_january_2024.csv')\n",
    "    open_prices[f'Company_{x}_Open_Price'] = company['open_price']\n",
    "    \n",
    "open_prices.to_csv('Open_Prices_january_2024.csv', index=False)\n",
    "\n",
    "open_prices.head()"
   ]
  },
  {
   "cell_type": "markdown",
   "id": "bdfebdb1-deb2-47dd-8380-75308944c95c",
   "metadata": {},
   "source": [
    "### Close Prices Dataset"
   ]
  },
  {
   "cell_type": "code",
   "execution_count": 858,
   "id": "9e4dbeb4-0051-4991-a8db-e647f1c6f81b",
   "metadata": {},
   "outputs": [
    {
     "data": {
      "text/html": [
       "<div>\n",
       "<style scoped>\n",
       "    .dataframe tbody tr th:only-of-type {\n",
       "        vertical-align: middle;\n",
       "    }\n",
       "\n",
       "    .dataframe tbody tr th {\n",
       "        vertical-align: top;\n",
       "    }\n",
       "\n",
       "    .dataframe thead th {\n",
       "        text-align: right;\n",
       "    }\n",
       "</style>\n",
       "<table border=\"1\" class=\"dataframe\">\n",
       "  <thead>\n",
       "    <tr style=\"text-align: right;\">\n",
       "      <th></th>\n",
       "      <th>Company_1_Close_Price</th>\n",
       "      <th>Company_2_Close_Price</th>\n",
       "      <th>Company_3_Close_Price</th>\n",
       "    </tr>\n",
       "  </thead>\n",
       "  <tbody>\n",
       "    <tr>\n",
       "      <th>0</th>\n",
       "      <td>152</td>\n",
       "      <td>88</td>\n",
       "      <td>235</td>\n",
       "    </tr>\n",
       "    <tr>\n",
       "      <th>1</th>\n",
       "      <td>155</td>\n",
       "      <td>89</td>\n",
       "      <td>238</td>\n",
       "    </tr>\n",
       "    <tr>\n",
       "      <th>2</th>\n",
       "      <td>154</td>\n",
       "      <td>90</td>\n",
       "      <td>237</td>\n",
       "    </tr>\n",
       "    <tr>\n",
       "      <th>3</th>\n",
       "      <td>158</td>\n",
       "      <td>91</td>\n",
       "      <td>240</td>\n",
       "    </tr>\n",
       "    <tr>\n",
       "      <th>4</th>\n",
       "      <td>160</td>\n",
       "      <td>93</td>\n",
       "      <td>245</td>\n",
       "    </tr>\n",
       "  </tbody>\n",
       "</table>\n",
       "</div>"
      ],
      "text/plain": [
       "   Company_1_Close_Price  Company_2_Close_Price  Company_3_Close_Price\n",
       "0                    152                     88                    235\n",
       "1                    155                     89                    238\n",
       "2                    154                     90                    237\n",
       "3                    158                     91                    240\n",
       "4                    160                     93                    245"
      ]
     },
     "execution_count": 858,
     "metadata": {},
     "output_type": "execute_result"
    }
   ],
   "source": [
    "close_prices = pd.DataFrame()\n",
    "for x in companies:\n",
    "    company = pd.read_csv(f'company_{x}_january_2024.csv')\n",
    "    close_prices[f'Company_{x}_Close_Price'] = company['close_price']\n",
    "    \n",
    "close_prices.to_csv('Close_Prices_january_2024.csv', index=False)\n",
    "\n",
    "close_prices.head()"
   ]
  },
  {
   "cell_type": "markdown",
   "id": "629fef9e-783f-4c5d-b0ea-1e2dd40c865e",
   "metadata": {},
   "source": [
    "### Volatility Dataset"
   ]
  },
  {
   "cell_type": "code",
   "execution_count": 860,
   "id": "11f9292f-68c6-4b6b-ac2f-7940b24d6585",
   "metadata": {},
   "outputs": [
    {
     "data": {
      "text/html": [
       "<div>\n",
       "<style scoped>\n",
       "    .dataframe tbody tr th:only-of-type {\n",
       "        vertical-align: middle;\n",
       "    }\n",
       "\n",
       "    .dataframe tbody tr th {\n",
       "        vertical-align: top;\n",
       "    }\n",
       "\n",
       "    .dataframe thead th {\n",
       "        text-align: right;\n",
       "    }\n",
       "</style>\n",
       "<table border=\"1\" class=\"dataframe\">\n",
       "  <thead>\n",
       "    <tr style=\"text-align: right;\">\n",
       "      <th></th>\n",
       "      <th>Company_1_Volatility</th>\n",
       "      <th>Company_2_Volatility</th>\n",
       "      <th>Company_3_Volatility</th>\n",
       "    </tr>\n",
       "  </thead>\n",
       "  <tbody>\n",
       "    <tr>\n",
       "      <th>0</th>\n",
       "      <td>0.018</td>\n",
       "      <td>0.025</td>\n",
       "      <td>0.015</td>\n",
       "    </tr>\n",
       "    <tr>\n",
       "      <th>1</th>\n",
       "      <td>0.020</td>\n",
       "      <td>0.020</td>\n",
       "      <td>0.017</td>\n",
       "    </tr>\n",
       "    <tr>\n",
       "      <th>2</th>\n",
       "      <td>0.015</td>\n",
       "      <td>0.018</td>\n",
       "      <td>0.014</td>\n",
       "    </tr>\n",
       "    <tr>\n",
       "      <th>3</th>\n",
       "      <td>0.022</td>\n",
       "      <td>0.016</td>\n",
       "      <td>0.016</td>\n",
       "    </tr>\n",
       "    <tr>\n",
       "      <th>4</th>\n",
       "      <td>0.019</td>\n",
       "      <td>0.021</td>\n",
       "      <td>0.018</td>\n",
       "    </tr>\n",
       "  </tbody>\n",
       "</table>\n",
       "</div>"
      ],
      "text/plain": [
       "   Company_1_Volatility  Company_2_Volatility  Company_3_Volatility\n",
       "0                 0.018                 0.025                 0.015\n",
       "1                 0.020                 0.020                 0.017\n",
       "2                 0.015                 0.018                 0.014\n",
       "3                 0.022                 0.016                 0.016\n",
       "4                 0.019                 0.021                 0.018"
      ]
     },
     "execution_count": 860,
     "metadata": {},
     "output_type": "execute_result"
    }
   ],
   "source": [
    "volatility = pd.DataFrame()\n",
    "for x in companies:\n",
    "    company = pd.read_csv(f'company_{x}_january_2024.csv')\n",
    "    volatility[f'Company_{x}_Volatility'] = company['volatility']\n",
    "    \n",
    "volatility.to_csv('Volatility_january_2024.csv', index=False)\n",
    "\n",
    "volatility.head()"
   ]
  },
  {
   "cell_type": "markdown",
   "id": "86f0f047-3813-489d-b8b0-1beba6ac2a81",
   "metadata": {},
   "source": [
    "## Inicial values\n",
    "The inicial value that we have to invest is 10000$, the number of companies in which we are going to invest is 3 and the daily risk-free rate for the stock market in January 2024 is aproximatelly 0.00959"
   ]
  },
  {
   "cell_type": "code",
   "execution_count": 935,
   "id": "b2079490-ba65-42b5-be5d-541c5887729b",
   "metadata": {},
   "outputs": [],
   "source": [
    "current_value = 10000\n",
    "n_comp = 3\n",
    "risk_free_rate = 0.00959"
   ]
  },
  {
   "cell_type": "markdown",
   "id": "289f6f0a-bb5e-4b0e-96c0-24c0c0d5774f",
   "metadata": {},
   "source": [
    "## Financial Metrics"
   ]
  },
  {
   "cell_type": "markdown",
   "id": "96175ea7-bea4-4b9d-b4b0-10b0cb90ad78",
   "metadata": {},
   "source": [
    "### Invested Money in a day"
   ]
  },
  {
   "cell_type": "code",
   "execution_count": 939,
   "id": "cc3a680b-7849-4c59-9791-3ea0307a60d2",
   "metadata": {},
   "outputs": [],
   "source": [
    "def invested(n_comp, actions, open_prices):\n",
    "    sum = 0\n",
    "    for i in range(n_comp):\n",
    "        sum += actions[i]*open_prices[i]\n",
    "    return sum      "
   ]
  },
  {
   "cell_type": "markdown",
   "id": "3414dc87-08fa-46ee-932e-87a9feb1d688",
   "metadata": {},
   "source": [
    "### Investment Return in a day"
   ]
  },
  {
   "cell_type": "code",
   "execution_count": 942,
   "id": "213b840a-44df-42c8-b1f8-9bb67947e0fe",
   "metadata": {},
   "outputs": [],
   "source": [
    "def ret(n_comp, actions, close_prices, returns):\n",
    "    sum = 0\n",
    "    for i in range (n_comp):\n",
    "        sum += close_prices[i]*(1+(returns[i]/100))*actions[i]\n",
    "    return sum "
   ]
  },
  {
   "cell_type": "markdown",
   "id": "eedceb95-6228-4760-9079-580e37b434a8",
   "metadata": {},
   "source": [
    "### Total Return\n",
    "It measures the total return of an investment"
   ]
  },
  {
   "cell_type": "code",
   "execution_count": 945,
   "id": "6a2daff6-92a2-4b88-975b-886801fa0bd5",
   "metadata": {},
   "outputs": [],
   "source": [
    "def TR(ending_value, starting_value, dividends):\n",
    "    return ((ending_value - starting_value)/starting_value)*100"
   ]
  },
  {
   "cell_type": "markdown",
   "id": "6d5e9ff2-9a03-4a76-8ab5-0de02bdb3315",
   "metadata": {},
   "source": [
    "### Return on Investment  \n",
    "It measures the percentage return on an investment"
   ]
  },
  {
   "cell_type": "code",
   "execution_count": 948,
   "id": "5c0d1e67-2662-4b55-b084-80cc6b2f14f7",
   "metadata": {},
   "outputs": [],
   "source": [
    "def ROI(investment, earnings):\n",
    "    return ((earnings - investment)/investment)*100"
   ]
  },
  {
   "cell_type": "markdown",
   "id": "429f7aa2-9216-462e-920e-b3c8c84d2687",
   "metadata": {},
   "source": [
    "### Risk-Adjusted Return  \n",
    "Performance of an investment given the Risk taken"
   ]
  },
  {
   "cell_type": "code",
   "execution_count": 951,
   "id": "508fd0be-f07f-4592-98d1-4acdd9289503",
   "metadata": {},
   "outputs": [],
   "source": [
    "def RAR (avg_return, risk_free_rate, avg_vol):\n",
    "    return (avg_return-risk_free_rate)/avg_vol"
   ]
  },
  {
   "cell_type": "markdown",
   "id": "7e90463f-cdea-416b-921c-57fe8d413bb8",
   "metadata": {},
   "source": [
    "## Genetic Model\n",
    "We created a genetic model to that adjust the number os stocks that we buy for each company, based on the expected returns of each company for that day. If a return is expected to be negative, the weght is automatically 0, else it can be a value in the range of 0 to 10. If the value invested is negative or above budget the return of the fitness function is -infinite, so that the model does't develop those values"
   ]
  },
  {
   "cell_type": "code",
   "execution_count": 954,
   "id": "44fc4422-00fd-44d5-b819-133ef0f7f148",
   "metadata": {},
   "outputs": [],
   "source": [
    "def fitness_func(ga_instance, solution, sol_idx):\n",
    "    global daily_exp_returns, open_prices, current_value, day\n",
    "    \n",
    "    expected_return = daily_exp_returns.iloc[day].values\n",
    "    prices = open_prices.iloc[day].values\n",
    "    \n",
    "    weights = np.array(solution, dtype=int)\n",
    "\n",
    "    invested = 0\n",
    "    gains = 0\n",
    "    \n",
    "    for i in range(n_comp):\n",
    "        if (expected_return[i] < 0):\n",
    "            weights[i] = 0\n",
    "            \n",
    "        invested += weights[i] * prices[i]\n",
    "        gains += weights[i]*expected_return[i]\n",
    "    \n",
    "    if invested < 0 or invested > current_value:\n",
    "        return -np.inf\n",
    "    \n",
    "    return gains"
   ]
  },
  {
   "cell_type": "code",
   "execution_count": 961,
   "id": "a837b6ba-a069-4da3-b0dc-2620dc1dc245",
   "metadata": {},
   "outputs": [],
   "source": [
    "def daily_investment ():\n",
    "\n",
    "    global n_comp, inicial_value, current_value, daily_returns, stock_prices\n",
    "    \n",
    "    def on_generation(ga_instance):\n",
    "        print(f\"Generation {ga_instance.generations_completed} complete\") \n",
    "        print(f\"Fitness of the best solution: {ga_instance.best_solution()[1]}\")\n",
    "        time.sleep(1)\n",
    "\n",
    "    gene_space = [{'low': 0.00, 'high': 10.00} for _ in range(len(companies))]\n",
    "    \n",
    "    ga_instance = pygad.GA(\n",
    "    num_generations=20, #Number of iterations of the genetic model\n",
    "    num_parents_mating=5,\n",
    "    fitness_func=fitness_func,\n",
    "    sol_per_pop=10,\n",
    "    num_genes=3, #Number of copanies to analyse\n",
    "    gene_type=float,\n",
    "    init_range_low=0, #Minimum number of stocks bought of a company\n",
    "    init_range_high=10, #Maximum number of stocks bought of a company\n",
    "    gene_space=gene_space,\n",
    "    parent_selection_type=\"sss\",\n",
    "    keep_parents=2,\n",
    "    crossover_type=\"single_point\",\n",
    "    mutation_type=\"random\",\n",
    "    mutation_percent_genes=100, #Percentage of the weights that can be altered at each iteraction\n",
    "    on_generation=on_generation\n",
    "    )\n",
    "\n",
    "    fitness_function = partial(fitness_func, ga_instance=ga_instance)\n",
    "    \n",
    "    ga_instance.run()\n",
    "\n",
    "    ga_instance.plot_fitness()\n",
    "\n",
    "    print(f\"Day: {day}\")\n",
    "    inicial_value = current_value\n",
    "    solution, solution_fitness, solution_idx = ga_instance.best_solution()\n",
    "    investment = invested(n_comp, solution, open_prices.iloc[day].values)\n",
    "    returns = ret(n_comp, solution, close_prices.iloc[day], daily_returns.iloc[day].values)\n",
    "    current_value += returns - investment\n",
    "    total_returns = TR(current_value, inicial_value, 0)\n",
    "    print(f\"Inicial value: {inicial_value}\")\n",
    "    print(f\"Current value: {current_value}\")\n",
    "    print(f\"Actions Investment: {solution}\")\n",
    "    print(f\"Invested Money: {investment:.2f}\")\n",
    "    print(f\"Total Return: {total_returns:.2f}%\")\n",
    "    print(f\"Return on Investment: {ROI(investment, returns):.2f}%\")\n",
    "    print(f\"Risk-Adjusted Return: {RAR(total_returns, risk_free_rate, np.mean(volatility.iloc[day].values)):.2f}%\")\n",
    "    print()"
   ]
  },
  {
   "cell_type": "markdown",
   "id": "e67dcc75-8928-43db-96d5-dc2af399a39d",
   "metadata": {},
   "source": [
    "## Investments\n",
    "For the days in January that the market is open, we use the model and our preditions of the daily returns to invest in a stock when the market opens and sell it when the market closes. Then we measure several metrics to evaluate our investmentes (inicial value of the day, current value, money invested, total return, return on investment and risk-adjusted return"
   ]
  },
  {
   "cell_type": "code",
   "execution_count": 958,
   "id": "d24266e9-373e-41f1-a267-37b0e7743b86",
   "metadata": {},
   "outputs": [
    {
     "name": "stderr",
     "output_type": "stream",
     "text": [
      "C:\\Users\\Utilizador\\anaconda3\\Lib\\site-packages\\pygad\\pygad.py:1139: UserWarning: The 'delay_after_gen' parameter is deprecated starting from PyGAD 3.3.0. To delay or pause the evolution after each generation, assign a callback function/method to the 'on_generation' parameter to adds some time delay.\n",
      "  warnings.warn(\"The 'delay_after_gen' parameter is deprecated starting from PyGAD 3.3.0. To delay or pause the evolution after each generation, assign a callback function/method to the 'on_generation' parameter to adds some time delay.\")\n"
     ]
    },
    {
     "name": "stdout",
     "output_type": "stream",
     "text": [
      "Generation 1 complete\n",
      "Fitness of the best solution: 0.5609999999999999\n",
      "Generation 2 complete\n",
      "Fitness of the best solution: 0.5609999999999999\n",
      "Generation 3 complete\n",
      "Fitness of the best solution: 0.603\n",
      "Generation 4 complete\n",
      "Fitness of the best solution: 0.6260000000000001\n",
      "Generation 5 complete\n",
      "Fitness of the best solution: 0.648\n",
      "Generation 6 complete\n",
      "Fitness of the best solution: 0.648\n",
      "Generation 7 complete\n",
      "Fitness of the best solution: 0.648\n",
      "Generation 8 complete\n",
      "Fitness of the best solution: 0.648\n",
      "Generation 9 complete\n",
      "Fitness of the best solution: 0.648\n",
      "Generation 10 complete\n",
      "Fitness of the best solution: 0.648\n",
      "Generation 11 complete\n",
      "Fitness of the best solution: 0.648\n",
      "Generation 12 complete\n",
      "Fitness of the best solution: 0.648\n",
      "Generation 13 complete\n",
      "Fitness of the best solution: 0.648\n",
      "Generation 14 complete\n",
      "Fitness of the best solution: 0.648\n",
      "Generation 15 complete\n",
      "Fitness of the best solution: 0.648\n",
      "Generation 16 complete\n",
      "Fitness of the best solution: 0.648\n",
      "Generation 17 complete\n",
      "Fitness of the best solution: 0.648\n",
      "Generation 18 complete\n",
      "Fitness of the best solution: 0.648\n",
      "Generation 19 complete\n",
      "Fitness of the best solution: 0.648\n",
      "Generation 20 complete\n",
      "Fitness of the best solution: 0.648\n"
     ]
    },
    {
     "name": "stderr",
     "output_type": "stream",
     "text": [
      "No artists with labels found to put in legend.  Note that artists whose label start with an underscore are ignored when legend() is called with no argument.\n"
     ]
    },
    {
     "data": {
      "image/png": "[encoded data removed]",
      "text/plain": [
       "<Figure size 640x480 with 1 Axes>"
      ]
     },
     "metadata": {},
     "output_type": "display_data"
    },
    {
     "name": "stderr",
     "output_type": "stream",
     "text": [
      "C:\\Users\\Utilizador\\AppData\\Local\\Temp\\ipykernel_16132\\685753541.py:4: FutureWarning: Series.__getitem__ treating keys as positions is deprecated. In a future version, integer keys will always be treated as labels (consistent with DataFrame behavior). To access a value by position, use `ser.iloc[pos]`\n",
      "  sum += close_prices[i]*(1+(returns[i]/100))*actions[i]\n"
     ]
    },
    {
     "name": "stdout",
     "output_type": "stream",
     "text": [
      "Day: 0\n",
      "Inicial value: 10000\n",
      "Current value: 10097.534249274435\n",
      "Actions Investment: [9.05291136 9.65554006 9.91242611]\n",
      "Invested Money: 4458.52\n",
      "Total Return: 0.98%\n",
      "Return on Investment: 2.19%\n",
      "Risk-Adjusted Return: 49.95%\n",
      "\n",
      "Generation 1 complete\n",
      "Fitness of the best solution: 0.391\n",
      "Generation 2 complete\n",
      "Fitness of the best solution: 0.40399999999999997\n",
      "Generation 3 complete\n",
      "Fitness of the best solution: 0.419\n",
      "Generation 4 complete\n",
      "Fitness of the best solution: 0.419\n",
      "Generation 5 complete\n",
      "Fitness of the best solution: 0.419\n",
      "Generation 6 complete\n",
      "Fitness of the best solution: 0.419\n",
      "Generation 7 complete\n",
      "Fitness of the best solution: 0.432\n",
      "Generation 8 complete\n",
      "Fitness of the best solution: 0.432\n",
      "Generation 9 complete\n",
      "Fitness of the best solution: 0.432\n",
      "Generation 10 complete\n",
      "Fitness of the best solution: 0.432\n",
      "Generation 11 complete\n",
      "Fitness of the best solution: 0.432\n",
      "Generation 12 complete\n",
      "Fitness of the best solution: 0.432\n",
      "Generation 13 complete\n",
      "Fitness of the best solution: 0.432\n",
      "Generation 14 complete\n",
      "Fitness of the best solution: 0.432\n",
      "Generation 15 complete\n",
      "Fitness of the best solution: 0.432\n",
      "Generation 16 complete\n",
      "Fitness of the best solution: 0.432\n",
      "Generation 17 complete\n",
      "Fitness of the best solution: 0.432\n",
      "Generation 18 complete\n",
      "Fitness of the best solution: 0.432\n",
      "Generation 19 complete\n",
      "Fitness of the best solution: 0.432\n",
      "Generation 20 complete\n",
      "Fitness of the best solution: 0.432\n"
     ]
    },
    {
     "name": "stderr",
     "output_type": "stream",
     "text": [
      "No artists with labels found to put in legend.  Note that artists whose label start with an underscore are ignored when legend() is called with no argument.\n"
     ]
    },
    {
     "data": {
      "image/png": "[encoded data removed]",
      "text/plain": [
       "<Figure size 640x480 with 1 Axes>"
      ]
     },
     "metadata": {},
     "output_type": "display_data"
    },
    {
     "name": "stdout",
     "output_type": "stream",
     "text": [
      "Day: 1\n",
      "Inicial value: 10097.534249274435\n",
      "Current value: 10164.963476613113\n",
      "Actions Investment: [9.77176073 9.08120743 9.45927176]\n",
      "Invested Money: 4507.38\n",
      "Total Return: 0.67%\n",
      "Return on Investment: 1.50%\n",
      "Risk-Adjusted Return: 34.64%\n",
      "\n",
      "Generation 1 complete\n",
      "Fitness of the best solution: 0.09899999999999999\n",
      "Generation 2 complete\n",
      "Fitness of the best solution: 0.09899999999999999\n",
      "Generation 3 complete\n",
      "Fitness of the best solution: 0.09899999999999999\n",
      "Generation 4 complete\n",
      "Fitness of the best solution: 0.09899999999999999\n",
      "Generation 5 complete\n",
      "Fitness of the best solution: 0.09899999999999999\n",
      "Generation 6 complete\n",
      "Fitness of the best solution: 0.09899999999999999\n",
      "Generation 7 complete\n",
      "Fitness of the best solution: 0.09899999999999999\n",
      "Generation 8 complete\n",
      "Fitness of the best solution: 0.09899999999999999\n",
      "Generation 9 complete\n",
      "Fitness of the best solution: 0.09899999999999999\n",
      "Generation 10 complete\n",
      "Fitness of the best solution: 0.09899999999999999\n",
      "Generation 11 complete\n",
      "Fitness of the best solution: 0.09899999999999999\n",
      "Generation 12 complete\n",
      "Fitness of the best solution: 0.09899999999999999\n",
      "Generation 13 complete\n",
      "Fitness of the best solution: 0.09899999999999999\n",
      "Generation 14 complete\n",
      "Fitness of the best solution: 0.09899999999999999\n",
      "Generation 15 complete\n",
      "Fitness of the best solution: 0.09899999999999999\n",
      "Generation 16 complete\n",
      "Fitness of the best solution: 0.09899999999999999\n",
      "Generation 17 complete\n",
      "Fitness of the best solution: 0.09899999999999999\n",
      "Generation 18 complete\n",
      "Fitness of the best solution: 0.09899999999999999\n",
      "Generation 19 complete\n",
      "Fitness of the best solution: 0.09899999999999999\n",
      "Generation 20 complete\n",
      "Fitness of the best solution: 0.09899999999999999\n"
     ]
    },
    {
     "name": "stderr",
     "output_type": "stream",
     "text": [
      "No artists with labels found to put in legend.  Note that artists whose label start with an underscore are ignored when legend() is called with no argument.\n"
     ]
    },
    {
     "data": {
      "image/png": "[encoded data removed]",
      "text/plain": [
       "<Figure size 640x480 with 1 Axes>"
      ]
     },
     "metadata": {},
     "output_type": "display_data"
    },
    {
     "name": "stdout",
     "output_type": "stream",
     "text": [
      "Day: 2\n",
      "Inicial value: 10164.963476613113\n",
      "Current value: 10172.97968935157\n",
      "Actions Investment: [0.46269007 9.20208265 0.78414928]\n",
      "Invested Money: 1077.33\n",
      "Total Return: 0.08%\n",
      "Return on Investment: 0.74%\n",
      "Risk-Adjusted Return: 4.42%\n",
      "\n",
      "Generation 1 complete\n",
      "Fitness of the best solution: 0.40099999999999997\n",
      "Generation 2 complete\n",
      "Fitness of the best solution: 0.42299999999999993\n",
      "Generation 3 complete\n",
      "Fitness of the best solution: 0.43799999999999994\n",
      "Generation 4 complete\n",
      "Fitness of the best solution: 0.43799999999999994\n",
      "Generation 5 complete\n",
      "Fitness of the best solution: 0.45299999999999996\n",
      "Generation 6 complete\n",
      "Fitness of the best solution: 0.45299999999999996\n",
      "Generation 7 complete\n",
      "Fitness of the best solution: 0.45299999999999996\n",
      "Generation 8 complete\n",
      "Fitness of the best solution: 0.45699999999999996\n",
      "Generation 9 complete\n",
      "Fitness of the best solution: 0.46799999999999997\n",
      "Generation 10 complete\n",
      "Fitness of the best solution: 0.46799999999999997\n",
      "Generation 11 complete\n",
      "Fitness of the best solution: 0.46799999999999997\n",
      "Generation 12 complete\n",
      "Fitness of the best solution: 0.46799999999999997\n",
      "Generation 13 complete\n",
      "Fitness of the best solution: 0.46799999999999997\n",
      "Generation 14 complete\n",
      "Fitness of the best solution: 0.46799999999999997\n",
      "Generation 15 complete\n",
      "Fitness of the best solution: 0.46799999999999997\n",
      "Generation 16 complete\n",
      "Fitness of the best solution: 0.46799999999999997\n",
      "Generation 17 complete\n",
      "Fitness of the best solution: 0.46799999999999997\n",
      "Generation 18 complete\n",
      "Fitness of the best solution: 0.46799999999999997\n",
      "Generation 19 complete\n",
      "Fitness of the best solution: 0.46799999999999997\n",
      "Generation 20 complete\n",
      "Fitness of the best solution: 0.46799999999999997\n"
     ]
    },
    {
     "name": "stderr",
     "output_type": "stream",
     "text": [
      "No artists with labels found to put in legend.  Note that artists whose label start with an underscore are ignored when legend() is called with no argument.\n"
     ]
    },
    {
     "data": {
      "image/png": "[encoded data removed]",
      "text/plain": [
       "<Figure size 640x480 with 1 Axes>"
      ]
     },
     "metadata": {},
     "output_type": "display_data"
    },
    {
     "name": "stdout",
     "output_type": "stream",
     "text": [
      "Day: 3\n",
      "Inicial value: 10172.97968935157\n",
      "Current value: 10251.25696332573\n",
      "Actions Investment: [9.48916665 9.75744322 9.93485822]\n",
      "Invested Money: 4694.06\n",
      "Total Return: 0.77%\n",
      "Return on Investment: 1.67%\n",
      "Risk-Adjusted Return: 42.22%\n",
      "\n",
      "Generation 1 complete\n",
      "Fitness of the best solution: 0.479\n",
      "Generation 2 complete\n",
      "Fitness of the best solution: 0.486\n",
      "Generation 3 complete\n",
      "Fitness of the best solution: 0.486\n",
      "Generation 4 complete\n",
      "Fitness of the best solution: 0.492\n",
      "Generation 5 complete\n",
      "Fitness of the best solution: 0.5069999999999999\n",
      "Generation 6 complete\n",
      "Fitness of the best solution: 0.5069999999999999\n",
      "Generation 7 complete\n",
      "Fitness of the best solution: 0.5069999999999999\n",
      "Generation 8 complete\n",
      "Fitness of the best solution: 0.5069999999999999\n",
      "Generation 9 complete\n",
      "Fitness of the best solution: 0.5069999999999999\n",
      "Generation 10 complete\n",
      "Fitness of the best solution: 0.5069999999999999\n",
      "Generation 11 complete\n",
      "Fitness of the best solution: 0.522\n",
      "Generation 12 complete\n",
      "Fitness of the best solution: 0.522\n",
      "Generation 13 complete\n",
      "Fitness of the best solution: 0.522\n",
      "Generation 14 complete\n",
      "Fitness of the best solution: 0.522\n",
      "Generation 15 complete\n",
      "Fitness of the best solution: 0.522\n",
      "Generation 16 complete\n",
      "Fitness of the best solution: 0.522\n",
      "Generation 17 complete\n",
      "Fitness of the best solution: 0.522\n",
      "Generation 18 complete\n",
      "Fitness of the best solution: 0.522\n",
      "Generation 19 complete\n",
      "Fitness of the best solution: 0.522\n",
      "Generation 20 complete\n",
      "Fitness of the best solution: 0.522\n"
     ]
    },
    {
     "name": "stderr",
     "output_type": "stream",
     "text": [
      "No artists with labels found to put in legend.  Note that artists whose label start with an underscore are ignored when legend() is called with no argument.\n"
     ]
    },
    {
     "data": {
      "image/png": "[encoded data removed]",
      "text/plain": [
       "<Figure size 640x480 with 1 Axes>"
      ]
     },
     "metadata": {},
     "output_type": "display_data"
    },
    {
     "name": "stdout",
     "output_type": "stream",
     "text": [
      "Day: 4\n",
      "Inicial value: 10251.25696332573\n",
      "Current value: 10339.833219507886\n",
      "Actions Investment: [9.47680152 9.54749988 9.94465447]\n",
      "Invested Money: 4752.87\n",
      "Total Return: 0.86%\n",
      "Return on Investment: 1.86%\n",
      "Risk-Adjusted Return: 44.20%\n",
      "\n",
      "Generation 1 complete\n",
      "Fitness of the best solution: 0.251\n",
      "Generation 2 complete\n",
      "Fitness of the best solution: 0.258\n",
      "Generation 3 complete\n",
      "Fitness of the best solution: 0.271\n",
      "Generation 4 complete\n",
      "Fitness of the best solution: 0.271\n",
      "Generation 5 complete\n",
      "Fitness of the best solution: 0.271\n",
      "Generation 6 complete\n",
      "Fitness of the best solution: 0.284\n",
      "Generation 7 complete\n",
      "Fitness of the best solution: 0.284\n",
      "Generation 8 complete\n",
      "Fitness of the best solution: 0.297\n",
      "Generation 9 complete\n",
      "Fitness of the best solution: 0.297\n",
      "Generation 10 complete\n",
      "Fitness of the best solution: 0.297\n",
      "Generation 11 complete\n",
      "Fitness of the best solution: 0.297\n",
      "Generation 12 complete\n",
      "Fitness of the best solution: 0.297\n",
      "Generation 13 complete\n",
      "Fitness of the best solution: 0.297\n",
      "Generation 14 complete\n",
      "Fitness of the best solution: 0.297\n",
      "Generation 15 complete\n",
      "Fitness of the best solution: 0.297\n",
      "Generation 16 complete\n",
      "Fitness of the best solution: 0.297\n",
      "Generation 17 complete\n",
      "Fitness of the best solution: 0.297\n",
      "Generation 18 complete\n",
      "Fitness of the best solution: 0.297\n",
      "Generation 19 complete\n",
      "Fitness of the best solution: 0.297\n",
      "Generation 20 complete\n",
      "Fitness of the best solution: 0.297\n"
     ]
    },
    {
     "name": "stderr",
     "output_type": "stream",
     "text": [
      "No artists with labels found to put in legend.  Note that artists whose label start with an underscore are ignored when legend() is called with no argument.\n"
     ]
    },
    {
     "data": {
      "image/png": "[encoded data removed]",
      "text/plain": [
       "<Figure size 640x480 with 1 Axes>"
      ]
     },
     "metadata": {},
     "output_type": "display_data"
    },
    {
     "name": "stdout",
     "output_type": "stream",
     "text": [
      "Day: 5\n",
      "Inicial value: 10339.833219507886\n",
      "Current value: 10405.533985062357\n",
      "Actions Investment: [9.9340459  3.15649629 9.67573673]\n",
      "Invested Money: 4253.56\n",
      "Total Return: 0.64%\n",
      "Return on Investment: 1.54%\n",
      "Risk-Adjusted Return: 34.77%\n",
      "\n",
      "Generation 1 complete\n",
      "Fitness of the best solution: 0.19799999999999998\n",
      "Generation 2 complete\n",
      "Fitness of the best solution: 0.19799999999999998\n",
      "Generation 3 complete\n",
      "Fitness of the best solution: 0.19799999999999998\n",
      "Generation 4 complete\n",
      "Fitness of the best solution: 0.19799999999999998\n",
      "Generation 5 complete\n",
      "Fitness of the best solution: 0.19799999999999998\n",
      "Generation 6 complete\n",
      "Fitness of the best solution: 0.19799999999999998\n",
      "Generation 7 complete\n",
      "Fitness of the best solution: 0.19799999999999998\n",
      "Generation 8 complete\n",
      "Fitness of the best solution: 0.19799999999999998\n",
      "Generation 9 complete\n",
      "Fitness of the best solution: 0.19799999999999998\n",
      "Generation 10 complete\n",
      "Fitness of the best solution: 0.19799999999999998\n",
      "Generation 11 complete\n",
      "Fitness of the best solution: 0.19799999999999998\n",
      "Generation 12 complete\n",
      "Fitness of the best solution: 0.19799999999999998\n",
      "Generation 13 complete\n",
      "Fitness of the best solution: 0.19799999999999998\n",
      "Generation 14 complete\n",
      "Fitness of the best solution: 0.19799999999999998\n",
      "Generation 15 complete\n",
      "Fitness of the best solution: 0.19799999999999998\n",
      "Generation 16 complete\n",
      "Fitness of the best solution: 0.19799999999999998\n",
      "Generation 17 complete\n",
      "Fitness of the best solution: 0.19799999999999998\n",
      "Generation 18 complete\n",
      "Fitness of the best solution: 0.19799999999999998\n",
      "Generation 19 complete\n",
      "Fitness of the best solution: 0.19799999999999998\n",
      "Generation 20 complete\n",
      "Fitness of the best solution: 0.19799999999999998\n"
     ]
    },
    {
     "name": "stderr",
     "output_type": "stream",
     "text": [
      "No artists with labels found to put in legend.  Note that artists whose label start with an underscore are ignored when legend() is called with no argument.\n"
     ]
    },
    {
     "data": {
      "image/png": "[encoded data removed]",
      "text/plain": [
       "<Figure size 640x480 with 1 Axes>"
      ]
     },
     "metadata": {},
     "output_type": "display_data"
    },
    {
     "name": "stdout",
     "output_type": "stream",
     "text": [
      "Day: 6\n",
      "Inicial value: 10405.533985062357\n",
      "Current value: 10407.204955476609\n",
      "Actions Investment: [7.49488371 9.18452979 4.62337251]\n",
      "Invested Money: 3214.99\n",
      "Total Return: 0.02%\n",
      "Return on Investment: 0.05%\n",
      "Risk-Adjusted Return: 0.35%\n",
      "\n"
     ]
    }
   ],
   "source": [
    "for i in range (7):\n",
    "    day = i\n",
    "    daily_investment()"
   ]
  },
  {
   "cell_type": "markdown",
   "id": "89421843-e6a7-488c-aaa4-9016e039f309",
   "metadata": {},
   "source": [
    "Referências:  \n",
    "https://www.digitalocean.com/community/tutorials/genetic-algorithm-applications-using-pygad  "
   ]
  }
 ],
 "metadata": {
  "kernelspec": {
   "display_name": "Python 3 (ipykernel)",
   "language": "python",
   "name": "python3"
  },
  "language_info": {
   "codemirror_mode": {
    "name": "ipython",
    "version": 3
   },
   "file_extension": ".py",
   "mimetype": "text/x-python",
   "name": "python",
   "nbconvert_exporter": "python",
   "pygments_lexer": "ipython3",
   "version": "3.12.4"
  }
 },
 "nbformat": 4,
 "nbformat_minor": 5
}
