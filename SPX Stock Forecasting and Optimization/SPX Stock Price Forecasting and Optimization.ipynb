{
 "cells": [
  {
   "cell_type": "code",
   "execution_count": 5,
   "id": "0874c656-2b5e-4fe1-a5d5-22f8c4d6731d",
   "metadata": {},
   "outputs": [
    {
     "name": "stdout",
     "output_type": "stream",
     "text": [
      "The autoreload extension is already loaded. To reload it, use:\n",
      "  %reload_ext autoreload\n"
     ]
    }
   ],
   "source": [
    "%load_ext autoreload\n",
    "%autoreload 2\n",
    "\n",
    "# Importing Dependencies\n",
    "import numpy as np\n",
    "import pandas as pd\n",
    "\n",
    "# Import json to help save dictionaries into .json files\n",
    "import json\n",
    "\n",
    "# Import matplotlib to help visualize the data\n",
    "import matplotlib.pyplot as plt\n",
    "\n",
    "# Import Datetime to properly format the Dates from the Dataset\n",
    "from datetime import (datetime, timedelta)\n",
    "\n",
    "# Importing an API to handle the Datset from Yahoo Finance\n",
    "import yfinance as yf\n",
    "\n",
    "# Import a Sequential Model from tensorflow alongside the Adam Optimizer and layers\n",
    "from tensorflow.keras.models import (Sequential)\n",
    "from tensorflow.keras.optimizers import (Adam)\n",
    "from tensorflow.keras import (layers)\n",
    "\n",
    "from Utils.Configuration import (loadConfig)"
   ]
  },
  {
   "cell_type": "code",
   "execution_count": 6,
   "id": "95bf0f8a-5e23-43b5-b98d-f9b951b455b6",
   "metadata": {},
   "outputs": [],
   "source": [
    "# Load the config\n",
    "config = loadConfig()"
   ]
  },
  {
   "cell_type": "code",
   "execution_count": 7,
   "id": "29c674e6-106b-4683-8664-d470b3184c2d",
   "metadata": {},
   "outputs": [],
   "source": [
    "# Getting the Stock Market Information\n",
    "stock_information = yf.Ticker(config['stock'])\n",
    "\n",
    "# Fetching a dataset with the stock's history data\n",
    "if config['max_period']:\n",
    "    stock_history = stock_information.history(period=\"max\")\n",
    "else:\n",
    "    stock_history = stock_information.history(start=config['start_date'], end=config['end_date'])\n",
    "\n",
    "# Saving the History data into a csv file\n",
    "stock_history.to_csv(f\"./{config['stock']}.csv\")"
   ]
  },
  {
   "cell_type": "code",
   "execution_count": 9,
   "id": "20a6537e-47fa-46f1-911f-d44f2ee83902",
   "metadata": {},
   "outputs": [],
   "source": [
    "# Load the Dataset and display a few stocks\n",
    "# stocks_df = pd.read_csv(\"./Available_Stocks.csv\", index_col=[\"Symbol\"], usecols=[\"Symbol\", \"Name\", \"Last Sale\", \"Country\", \"Volume\", \"Sector\", \"Industry\"])\n",
    "# stocks_df.head(10)"
   ]
  },
  {
   "cell_type": "code",
   "execution_count": null,
   "id": "e57392d9-3448-477b-8c5c-312f8929d318",
   "metadata": {},
   "outputs": [],
   "source": []
  }
 ],
 "metadata": {
  "kernelspec": {
   "display_name": "Python 3 (ipykernel)",
   "language": "python",
   "name": "python3"
  },
  "language_info": {
   "codemirror_mode": {
    "name": "ipython",
    "version": 3
   },
   "file_extension": ".py",
   "mimetype": "text/x-python",
   "name": "python",
   "nbconvert_exporter": "python",
   "pygments_lexer": "ipython3",
   "version": "3.8.0"
  }
 },
 "nbformat": 4,
 "nbformat_minor": 5
}
